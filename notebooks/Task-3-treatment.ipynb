{
 "cells": [
  {
   "cell_type": "markdown",
   "metadata": {
    "collapsed": true,
    "pycharm": {
     "name": "#%% md\n"
    }
   },
   "source": [
    "# Task 3 Treatment Exercise - Ander Carrera\n",
    "\n",
    "You work for a startup that sells machine learning based solutions to public institutions\n",
    "and private companies. A well-known hospital has hired your startup to **build a machine\n",
    "learning model that tells which treatment or “drug” should a new incoming patient\n",
    "receive.**\n",
    "\n",
    "In order to create that model, the hospital has provided you a dataset with already\n",
    "treated patients. The dataset is called “Treatment.csv” and stores some useful\n",
    "information of each patient, as well as the treatment (drug) each patient has received.\n",
    "\n",
    "Your job is to create a machine learning model that best classifies a new incoming\n",
    "patient.\n",
    "\n",
    "Hints:\n",
    "- The hospital will make the payment as soon as you upload a “good enough”\n",
    "jupyter notebook to Mudle.\n",
    "\n",
    "- “Good enough” means:\n",
    "    - Explain with comments very briefly what are you doing in every step of\n",
    "the notebook and why (if it is necessary). Remember that the hospital\n",
    "personnel are not ML experts and they have to understand your work.\n",
    "    - Include in the notebook all the algorithms you tried, don’t leave only the\n",
    "best. In this way they can see all the work you’ve done.\n",
    "    - Clearly explain the results you achieved.\n",
    "\n",
    "## EDA\n",
    "\n",
    "Now we are going to analyze each variable and show 5 examples of each:\n",
    "\n",
    "Sex: gender of the patient. Binary (F or M):\n",
    "\n",
    "#,Sex\n",
    "1,F\n",
    "2,M\n",
    "3,M\n",
    "4,F\n",
    "5,F\n",
    "\n",
    "BP (Blood pressure): Type of blood pressure of the patient, categorical (HIGH, NORMAL, LOW) We could transform it into numerical using one-hot-encoding.\n",
    "\n",
    "#,BP\n",
    "1,HIGH\n",
    "2,LOW\n",
    "3,LOW\n",
    "4,NORMAL\n",
    "5,LOW\n",
    "\n",
    "Cholesterol: Type of cholesterol of the patient, binary (HIGH, NORMAL) we could transform it into numerical using one-hot-encoding.\n",
    "\n",
    "#,Cholesterol\n",
    "9,HIGH\n",
    "10,NORMAL\n",
    "11,HIGH\n",
    "12,NORMAL\n",
    "13,HIGH\n",
    "\n",
    "Na_to_K: Sodium-potassium (Na:K) ratio, Numeric continue value\n",
    "\n",
    "#,Na_to_K\n",
    "1,25.355\n",
    "2,13.093\n",
    "3,10.114\n",
    "4,7.798\n",
    "5,18.043\n",
    "\n",
    "### This is the output (model) we want to predict\n",
    "\n",
    "Drug: The type of drug that has to be given to a patient, categorical. 5 types fixed. (A B C Y X).\n",
    "\n",
    "#,Drug\n",
    "45,drugX\n",
    "46,drugX\n",
    "47,drugA\n",
    "48,drugC\n",
    "49,DrugY"
   ]
  },
  {
   "cell_type": "code",
   "execution_count": 1,
   "metadata": {
    "pycharm": {
     "name": "#%%\n"
    }
   },
   "outputs": [],
   "source": [
    "import pandas as pd\n",
    "pd.options.mode.chained_assignment = None  # default='warn'\n",
    "import seaborn as sns\n",
    "import matplotlib.pyplot as plt\n",
    "import numpy as np\n",
    "\n",
    "# Comment this if the data visualisations doesn't work on your side\n",
    "\n",
    "plt.style.use('bmh')"
   ]
  },
  {
   "cell_type": "code",
   "execution_count": 2,
   "metadata": {
    "pycharm": {
     "name": "#%%\n"
    }
   },
   "outputs": [
    {
     "data": {
      "text/plain": "   Age Sex      BP Cholesterol  Na_to_K   Drug\n0   23   F    HIGH        HIGH   25.355  DrugY\n1   47   M     LOW        HIGH   13.093  drugC\n2   47   M     LOW        HIGH   10.114  drugC\n3   28   F  NORMAL        HIGH    7.798  drugX\n4   61   F     LOW        HIGH   18.043  DrugY",
      "text/html": "<div>\n<style scoped>\n    .dataframe tbody tr th:only-of-type {\n        vertical-align: middle;\n    }\n\n    .dataframe tbody tr th {\n        vertical-align: top;\n    }\n\n    .dataframe thead th {\n        text-align: right;\n    }\n</style>\n<table border=\"1\" class=\"dataframe\">\n  <thead>\n    <tr style=\"text-align: right;\">\n      <th></th>\n      <th>Age</th>\n      <th>Sex</th>\n      <th>BP</th>\n      <th>Cholesterol</th>\n      <th>Na_to_K</th>\n      <th>Drug</th>\n    </tr>\n  </thead>\n  <tbody>\n    <tr>\n      <th>0</th>\n      <td>23</td>\n      <td>F</td>\n      <td>HIGH</td>\n      <td>HIGH</td>\n      <td>25.355</td>\n      <td>DrugY</td>\n    </tr>\n    <tr>\n      <th>1</th>\n      <td>47</td>\n      <td>M</td>\n      <td>LOW</td>\n      <td>HIGH</td>\n      <td>13.093</td>\n      <td>drugC</td>\n    </tr>\n    <tr>\n      <th>2</th>\n      <td>47</td>\n      <td>M</td>\n      <td>LOW</td>\n      <td>HIGH</td>\n      <td>10.114</td>\n      <td>drugC</td>\n    </tr>\n    <tr>\n      <th>3</th>\n      <td>28</td>\n      <td>F</td>\n      <td>NORMAL</td>\n      <td>HIGH</td>\n      <td>7.798</td>\n      <td>drugX</td>\n    </tr>\n    <tr>\n      <th>4</th>\n      <td>61</td>\n      <td>F</td>\n      <td>LOW</td>\n      <td>HIGH</td>\n      <td>18.043</td>\n      <td>DrugY</td>\n    </tr>\n  </tbody>\n</table>\n</div>"
     },
     "execution_count": 2,
     "metadata": {},
     "output_type": "execute_result"
    }
   ],
   "source": [
    "df = pd.read_csv('../data/Treatment.csv')\n",
    "df.head()"
   ]
  },
  {
   "cell_type": "code",
   "execution_count": 3,
   "metadata": {
    "pycharm": {
     "name": "#%%\n"
    }
   },
   "outputs": [
    {
     "data": {
      "text/plain": "              Age     Na_to_K\ncount  200.000000  200.000000\nmean    44.315000   16.084485\nstd     16.544315    7.223956\nmin     15.000000    6.269000\n25%     31.000000   10.445500\n50%     45.000000   13.936500\n75%     58.000000   19.380000\nmax     74.000000   38.247000",
      "text/html": "<div>\n<style scoped>\n    .dataframe tbody tr th:only-of-type {\n        vertical-align: middle;\n    }\n\n    .dataframe tbody tr th {\n        vertical-align: top;\n    }\n\n    .dataframe thead th {\n        text-align: right;\n    }\n</style>\n<table border=\"1\" class=\"dataframe\">\n  <thead>\n    <tr style=\"text-align: right;\">\n      <th></th>\n      <th>Age</th>\n      <th>Na_to_K</th>\n    </tr>\n  </thead>\n  <tbody>\n    <tr>\n      <th>count</th>\n      <td>200.000000</td>\n      <td>200.000000</td>\n    </tr>\n    <tr>\n      <th>mean</th>\n      <td>44.315000</td>\n      <td>16.084485</td>\n    </tr>\n    <tr>\n      <th>std</th>\n      <td>16.544315</td>\n      <td>7.223956</td>\n    </tr>\n    <tr>\n      <th>min</th>\n      <td>15.000000</td>\n      <td>6.269000</td>\n    </tr>\n    <tr>\n      <th>25%</th>\n      <td>31.000000</td>\n      <td>10.445500</td>\n    </tr>\n    <tr>\n      <th>50%</th>\n      <td>45.000000</td>\n      <td>13.936500</td>\n    </tr>\n    <tr>\n      <th>75%</th>\n      <td>58.000000</td>\n      <td>19.380000</td>\n    </tr>\n    <tr>\n      <th>max</th>\n      <td>74.000000</td>\n      <td>38.247000</td>\n    </tr>\n  </tbody>\n</table>\n</div>"
     },
     "execution_count": 3,
     "metadata": {},
     "output_type": "execute_result"
    }
   ],
   "source": [
    "df.describe()"
   ]
  },
  {
   "cell_type": "markdown",
   "metadata": {
    "pycharm": {
     "name": "#%% md\n"
    }
   },
   "source": [
    "**The first question we must answer is: what type of variable is the output variable? By answering this question we will know the type of problem we have. In this case, since `Drug` is a categorical variable, we are dealing with a classification problem**."
   ]
  },
  {
   "cell_type": "code",
   "execution_count": 4,
   "metadata": {
    "pycharm": {
     "name": "#%%\n"
    }
   },
   "outputs": [
    {
     "name": "stdout",
     "output_type": "stream",
     "text": [
      "Age : 0\n",
      "Sex : 0\n",
      "BP : 0\n",
      "Cholesterol : 0\n",
      "Na_to_K : 0\n",
      "Drug : 0\n"
     ]
    }
   ],
   "source": [
    "for col in df.columns:\n",
    "    print(\"{} : {}\".format(col, df[col].isnull().sum()))"
   ]
  },
  {
   "cell_type": "markdown",
   "metadata": {},
   "source": [
    "With above information we can already deduce that all the variables are relevant, since there are no missing values.\n"
   ]
  },
  {
   "cell_type": "markdown",
   "metadata": {},
   "source": [
    "## Pre processing\n"
   ]
  },
  {
   "cell_type": "markdown",
   "metadata": {},
   "source": [
    "Let's see what types of data we have in the dataset, and we will plot those which are numeric and categorical\n"
   ]
  },
  {
   "cell_type": "code",
   "execution_count": 5,
   "metadata": {
    "pycharm": {
     "name": "#%%\n"
    }
   },
   "outputs": [
    {
     "data": {
      "text/plain": "[dtype('float64'), dtype('int64'), dtype('O')]"
     },
     "execution_count": 5,
     "metadata": {},
     "output_type": "execute_result"
    }
   ],
   "source": [
    "list(set(df.dtypes.tolist()))\n"
   ]
  },
  {
   "cell_type": "code",
   "execution_count": 6,
   "metadata": {
    "pycharm": {
     "name": "#%%\n"
    }
   },
   "outputs": [
    {
     "data": {
      "text/plain": "   Age  Na_to_K\n0   23   25.355\n1   47   13.093\n2   47   10.114\n3   28    7.798\n4   61   18.043",
      "text/html": "<div>\n<style scoped>\n    .dataframe tbody tr th:only-of-type {\n        vertical-align: middle;\n    }\n\n    .dataframe tbody tr th {\n        vertical-align: top;\n    }\n\n    .dataframe thead th {\n        text-align: right;\n    }\n</style>\n<table border=\"1\" class=\"dataframe\">\n  <thead>\n    <tr style=\"text-align: right;\">\n      <th></th>\n      <th>Age</th>\n      <th>Na_to_K</th>\n    </tr>\n  </thead>\n  <tbody>\n    <tr>\n      <th>0</th>\n      <td>23</td>\n      <td>25.355</td>\n    </tr>\n    <tr>\n      <th>1</th>\n      <td>47</td>\n      <td>13.093</td>\n    </tr>\n    <tr>\n      <th>2</th>\n      <td>47</td>\n      <td>10.114</td>\n    </tr>\n    <tr>\n      <th>3</th>\n      <td>28</td>\n      <td>7.798</td>\n    </tr>\n    <tr>\n      <th>4</th>\n      <td>61</td>\n      <td>18.043</td>\n    </tr>\n  </tbody>\n</table>\n</div>"
     },
     "execution_count": 6,
     "metadata": {},
     "output_type": "execute_result"
    }
   ],
   "source": [
    "df_num = df.select_dtypes(include=['float64', 'int64'])\n",
    "df_num.head()"
   ]
  },
  {
   "cell_type": "code",
   "execution_count": 7,
   "metadata": {
    "pycharm": {
     "name": "#%%\n"
    }
   },
   "outputs": [
    {
     "data": {
      "text/plain": "  Sex      BP Cholesterol   Drug\n0   F    HIGH        HIGH  DrugY\n1   M     LOW        HIGH  drugC\n2   M     LOW        HIGH  drugC\n3   F  NORMAL        HIGH  drugX\n4   F     LOW        HIGH  DrugY",
      "text/html": "<div>\n<style scoped>\n    .dataframe tbody tr th:only-of-type {\n        vertical-align: middle;\n    }\n\n    .dataframe tbody tr th {\n        vertical-align: top;\n    }\n\n    .dataframe thead th {\n        text-align: right;\n    }\n</style>\n<table border=\"1\" class=\"dataframe\">\n  <thead>\n    <tr style=\"text-align: right;\">\n      <th></th>\n      <th>Sex</th>\n      <th>BP</th>\n      <th>Cholesterol</th>\n      <th>Drug</th>\n    </tr>\n  </thead>\n  <tbody>\n    <tr>\n      <th>0</th>\n      <td>F</td>\n      <td>HIGH</td>\n      <td>HIGH</td>\n      <td>DrugY</td>\n    </tr>\n    <tr>\n      <th>1</th>\n      <td>M</td>\n      <td>LOW</td>\n      <td>HIGH</td>\n      <td>drugC</td>\n    </tr>\n    <tr>\n      <th>2</th>\n      <td>M</td>\n      <td>LOW</td>\n      <td>HIGH</td>\n      <td>drugC</td>\n    </tr>\n    <tr>\n      <th>3</th>\n      <td>F</td>\n      <td>NORMAL</td>\n      <td>HIGH</td>\n      <td>drugX</td>\n    </tr>\n    <tr>\n      <th>4</th>\n      <td>F</td>\n      <td>LOW</td>\n      <td>HIGH</td>\n      <td>DrugY</td>\n    </tr>\n  </tbody>\n</table>\n</div>"
     },
     "execution_count": 7,
     "metadata": {},
     "output_type": "execute_result"
    }
   ],
   "source": [
    "df_num = df.select_dtypes(include=['O'])\n",
    "df_num.head()"
   ]
  },
  {
   "cell_type": "markdown",
   "metadata": {
    "pycharm": {
     "name": "#%% md\n"
    }
   },
   "source": [
    "We've just seen above that we only have 2 numeric variables, which is too little to get a 'good enough' model. For this, we will transform the categorical variables into numerical variables.\n",
    "\n",
    "So we will transform `Sex` `BP` `Drug` and `Cholesterol`, and we will use the `One-hot-encoding` method, as we have a fixed possible variables per column (Sex has F&M, BP has High Low Normal, CHolesterol has High Normal and Drug has Drug A B C Y X) and we don't want to give a certain order logic to those variables."
   ]
  },
  {
   "cell_type": "code",
   "execution_count": 8,
   "metadata": {
    "pycharm": {
     "name": "#%%\n"
    }
   },
   "outputs": [],
   "source": [
    "encoded_data = pd.get_dummies(df, columns =['Sex', 'BP', 'Cholesterol', 'Drug'])"
   ]
  },
  {
   "cell_type": "markdown",
   "metadata": {},
   "source": [
    "Above we have an example of the complete encoded data, but the data we are going to use for training will be an encoded data regarding input variables:"
   ]
  },
  {
   "cell_type": "code",
   "execution_count": 9,
   "metadata": {
    "pycharm": {
     "name": "#%%\n"
    }
   },
   "outputs": [
    {
     "data": {
      "text/plain": "     Age  Na_to_K  Sex_F  Sex_M  BP_HIGH  BP_LOW  BP_NORMAL  Cholesterol_HIGH  \\\n50    58   19.416      1      0        1       0          0                 1   \n137   35   12.894      1      0        1       0          0                 1   \n96    58   38.247      1      0        0       1          0                 1   \n165   38   18.295      0      1        0       1          0                 1   \n151   68   11.009      0      1        1       0          0                 1   \n60    38   29.875      1      0        0       1          0                 0   \n193   72    6.769      0      1        0       1          0                 1   \n146   37   12.006      1      0        0       1          0                 0   \n124   53   12.495      1      0        1       0          0                 0   \n145   61    9.443      0      1        0       0          1                 1   \n\n     Cholesterol_NORMAL  \n50                    0  \n137                   0  \n96                    0  \n165                   0  \n151                   0  \n60                    1  \n193                   0  \n146                   1  \n124                   1  \n145                   0  ",
      "text/html": "<div>\n<style scoped>\n    .dataframe tbody tr th:only-of-type {\n        vertical-align: middle;\n    }\n\n    .dataframe tbody tr th {\n        vertical-align: top;\n    }\n\n    .dataframe thead th {\n        text-align: right;\n    }\n</style>\n<table border=\"1\" class=\"dataframe\">\n  <thead>\n    <tr style=\"text-align: right;\">\n      <th></th>\n      <th>Age</th>\n      <th>Na_to_K</th>\n      <th>Sex_F</th>\n      <th>Sex_M</th>\n      <th>BP_HIGH</th>\n      <th>BP_LOW</th>\n      <th>BP_NORMAL</th>\n      <th>Cholesterol_HIGH</th>\n      <th>Cholesterol_NORMAL</th>\n    </tr>\n  </thead>\n  <tbody>\n    <tr>\n      <th>50</th>\n      <td>58</td>\n      <td>19.416</td>\n      <td>1</td>\n      <td>0</td>\n      <td>1</td>\n      <td>0</td>\n      <td>0</td>\n      <td>1</td>\n      <td>0</td>\n    </tr>\n    <tr>\n      <th>137</th>\n      <td>35</td>\n      <td>12.894</td>\n      <td>1</td>\n      <td>0</td>\n      <td>1</td>\n      <td>0</td>\n      <td>0</td>\n      <td>1</td>\n      <td>0</td>\n    </tr>\n    <tr>\n      <th>96</th>\n      <td>58</td>\n      <td>38.247</td>\n      <td>1</td>\n      <td>0</td>\n      <td>0</td>\n      <td>1</td>\n      <td>0</td>\n      <td>1</td>\n      <td>0</td>\n    </tr>\n    <tr>\n      <th>165</th>\n      <td>38</td>\n      <td>18.295</td>\n      <td>0</td>\n      <td>1</td>\n      <td>0</td>\n      <td>1</td>\n      <td>0</td>\n      <td>1</td>\n      <td>0</td>\n    </tr>\n    <tr>\n      <th>151</th>\n      <td>68</td>\n      <td>11.009</td>\n      <td>0</td>\n      <td>1</td>\n      <td>1</td>\n      <td>0</td>\n      <td>0</td>\n      <td>1</td>\n      <td>0</td>\n    </tr>\n    <tr>\n      <th>60</th>\n      <td>38</td>\n      <td>29.875</td>\n      <td>1</td>\n      <td>0</td>\n      <td>0</td>\n      <td>1</td>\n      <td>0</td>\n      <td>0</td>\n      <td>1</td>\n    </tr>\n    <tr>\n      <th>193</th>\n      <td>72</td>\n      <td>6.769</td>\n      <td>0</td>\n      <td>1</td>\n      <td>0</td>\n      <td>1</td>\n      <td>0</td>\n      <td>1</td>\n      <td>0</td>\n    </tr>\n    <tr>\n      <th>146</th>\n      <td>37</td>\n      <td>12.006</td>\n      <td>1</td>\n      <td>0</td>\n      <td>0</td>\n      <td>1</td>\n      <td>0</td>\n      <td>0</td>\n      <td>1</td>\n    </tr>\n    <tr>\n      <th>124</th>\n      <td>53</td>\n      <td>12.495</td>\n      <td>1</td>\n      <td>0</td>\n      <td>1</td>\n      <td>0</td>\n      <td>0</td>\n      <td>0</td>\n      <td>1</td>\n    </tr>\n    <tr>\n      <th>145</th>\n      <td>61</td>\n      <td>9.443</td>\n      <td>0</td>\n      <td>1</td>\n      <td>0</td>\n      <td>0</td>\n      <td>1</td>\n      <td>1</td>\n      <td>0</td>\n    </tr>\n  </tbody>\n</table>\n</div>"
     },
     "execution_count": 9,
     "metadata": {},
     "output_type": "execute_result"
    }
   ],
   "source": [
    "feature = pd.get_dummies(df, columns =['Sex', 'BP', 'Cholesterol']).drop('Drug', axis=1)\n",
    "\n",
    "feature.sample(10)"
   ]
  },
  {
   "cell_type": "markdown",
   "metadata": {},
   "source": [
    "Once we have preprocessed our data, we are going to focus on the class balancing of our output variable `Drug`:"
   ]
  },
  {
   "cell_type": "code",
   "execution_count": 10,
   "metadata": {
    "pycharm": {
     "name": "#%%\n"
    }
   },
   "outputs": [
    {
     "data": {
      "text/plain": "<Figure size 432x288 with 1 Axes>",
      "image/png": "[encoded data removed]"
     },
     "metadata": {
      "needs_background": "light"
     },
     "output_type": "display_data"
    }
   ],
   "source": [
    "count_classes = pd.value_counts(df['Drug'], sort = True)\n",
    "count_classes.plot(kind = 'bar', rot=0)\n",
    "plt.xticks(range(2))\n",
    "plt.title(\"Frequency by observation number\")\n",
    "plt.ylabel(\"Number of Observations\");"
   ]
  },
  {
   "cell_type": "markdown",
   "metadata": {},
   "source": [
    "Above we can see that `Drug` is not balanced at all.\n",
    "\n",
    "We will apply the following strategy to try to improve the situation.\n",
    "\n",
    "**Balanced Ensemble Methods:** Uses the advantages of ensemble methods, i.e., training different models and among all of them obtaining the final result (for example \"voting\") but makes sure to take balanced training samples.\n",
    "Let's apply this technique one by one to our code and see the results.\n"
   ]
  },
  {
   "cell_type": "markdown",
   "metadata": {},
   "source": [
    "## Training\n",
    "\n",
    "Once we have pre processed our data, now we can focus on training our model.\n",
    "\n",
    "Before diving deep into modelling and making predictions, we need to split our data set into a training set and test set. That way, we can train an algorithm on the training set, and make predictions on the test set. The error metrics will be much more relevant this way, since the algorithm will make predictions on data it has not seen before.\n"
   ]
  },
  {
   "cell_type": "markdown",
   "metadata": {
    "pycharm": {
     "name": "#%% md\n"
    }
   },
   "source": []
  },
  {
   "cell_type": "code",
   "execution_count": 11,
   "metadata": {
    "pycharm": {
     "name": "#%%\n"
    }
   },
   "outputs": [
    {
     "name": "stdout",
     "output_type": "stream",
     "text": [
      "Shape of training feature: (160, 9)\n",
      "Shape of testing feature: (40, 9)\n",
      "Shape of training label: (160,)\n",
      "Shape of training label: (40,)\n"
     ]
    }
   ],
   "source": [
    "from sklearn.model_selection import train_test_split\n",
    "\n",
    "target = np.ravel(df['Drug'])\n",
    "\n",
    "X_train, X_test, y_train, y_test = train_test_split(feature, target, test_size=0.2, random_state=42)\n",
    "\n",
    "# Show the Training and Testing Data\n",
    "print('Shape of training feature:', X_train.shape)\n",
    "print('Shape of testing feature:', X_test.shape)\n",
    "print('Shape of training label:', y_train.shape)\n",
    "print('Shape of training label:', y_test.shape)"
   ]
  },
  {
   "cell_type": "markdown",
   "metadata": {},
   "source": [
    "Finally, we use the train_test_split function. The test_size parameter corresponds to the fraction of the data set that will be used for testing. Usually, we use 20%. Then, the random_state parameter is used for reproducibility. It can be set to any number, but it will ensure that every time the code runs, the data set will be split identically. If no random_state is provided, then the train and test set will differ, since the function splits it randomly."
   ]
  },
  {
   "cell_type": "markdown",
   "metadata": {},
   "source": [
    "BUT... before we start, let's run the \"unbalanced\" Logistic Regression model, to have a \"baseline\", i.e. some metrics against which we can compare and see if we improve.\n"
   ]
  },
  {
   "cell_type": "markdown",
   "metadata": {},
   "source": [
    "### Linear Regression (Unbalanced baseline)"
   ]
  },
  {
   "cell_type": "code",
   "execution_count": 12,
   "metadata": {
    "pycharm": {
     "name": "#%%\n"
    }
   },
   "outputs": [
    {
     "data": {
      "text/plain": "<Figure size 432x432 with 2 Axes>",
      "image/png": "[encoded data removed]"
     },
     "metadata": {
      "needs_background": "light"
     },
     "output_type": "display_data"
    },
    {
     "name": "stdout",
     "output_type": "stream",
     "text": [
      "Accuracy: 100.0%\n",
      "              precision    recall  f1-score   support\n",
      "\n",
      "       DrugY       1.00      1.00      1.00        15\n",
      "       drugA       1.00      1.00      1.00         6\n",
      "       drugB       1.00      1.00      1.00         3\n",
      "       drugC       1.00      1.00      1.00         5\n",
      "       drugX       1.00      1.00      1.00        11\n",
      "\n",
      "    accuracy                           1.00        40\n",
      "   macro avg       1.00      1.00      1.00        40\n",
      "weighted avg       1.00      1.00      1.00        40\n",
      "\n"
     ]
    }
   ],
   "source": [
    "from sklearn.linear_model import LogisticRegression\n",
    "from sklearn.metrics import confusion_matrix\n",
    "from sklearn.metrics import classification_report\n",
    "from sklearn.metrics import accuracy_score\n",
    "\n",
    "#creamos una función que crea el modelo que usaremos cada vez\n",
    "def run_linear_reg_unbalanced_model(X_train, X_test, y_train, y_test, random_state):\n",
    "    clf_base = LogisticRegression(random_state=random_state, solver=\"newton-cg\")\n",
    "    clf_base.fit(X_train, y_train)\n",
    "    return clf_base\n",
    "\n",
    "#ejecutamos el modelo \"tal cual\"\n",
    "model = run_linear_reg_unbalanced_model(X_train, X_test, y_train, y_test, 42)\n",
    "\n",
    "#definimos funciona para mostrar los resultados\n",
    "def show_results(y_test, y_pred):\n",
    "    conf_matrix = confusion_matrix(y_test, y_pred)\n",
    "    plt.figure(figsize=(6, 6))\n",
    "    sns.heatmap(conf_matrix, annot=True, fmt=\"d\")\n",
    "    plt.title(\"Confusion matrix\")\n",
    "    plt.ylabel('True class')\n",
    "    plt.xlabel('Predicted class')\n",
    "    plt.show()\n",
    "    print ('Accuracy: {}%'.format(accuracy_score(y_test, y_pred)*100))\n",
    "    print (classification_report(y_test, y_pred))\n",
    "\n",
    "y_pred = model.predict(X_test)\n",
    "show_results(y_test, y_pred)"
   ]
  },
  {
   "cell_type": "markdown",
   "metadata": {},
   "source": [
    "### Linear Regression (Balanced)\n",
    "\n",
    "Let's do the same but doing some class balancing via `class_weight`. THis hyper parameter will give more weight to the fewer repeated variables and vice-bersa.\n"
   ]
  },
  {
   "cell_type": "code",
   "execution_count": 13,
   "metadata": {
    "pycharm": {
     "name": "#%%\n"
    }
   },
   "outputs": [],
   "source": [
    "def run_model_balanced(X_train, X_test, y_train, y_test):\n",
    "    clf = LogisticRegression(random_state=42, solver=\"newton-cg\",class_weight=\"balanced\")\n",
    "    clf.fit(X_train, y_train)\n",
    "    return clf\n",
    "\n",
    "model = run_model_balanced(X_train, X_test, y_train, y_test)\n",
    "y_pred = model.predict(X_test)\n"
   ]
  },
  {
   "cell_type": "code",
   "execution_count": 14,
   "outputs": [
    {
     "data": {
      "text/plain": "<Figure size 432x432 with 2 Axes>",
      "image/png": "[encoded data removed]"
     },
     "metadata": {
      "needs_background": "light"
     },
     "output_type": "display_data"
    },
    {
     "name": "stdout",
     "output_type": "stream",
     "text": [
      "Accuracy: 95.0%\n",
      "              precision    recall  f1-score   support\n",
      "\n",
      "       DrugY       1.00      0.93      0.97        15\n",
      "       drugA       0.86      1.00      0.92         6\n",
      "       drugB       0.75      1.00      0.86         3\n",
      "       drugC       1.00      1.00      1.00         5\n",
      "       drugX       1.00      0.91      0.95        11\n",
      "\n",
      "    accuracy                           0.95        40\n",
      "   macro avg       0.92      0.97      0.94        40\n",
      "weighted avg       0.96      0.95      0.95        40\n",
      "\n"
     ]
    }
   ],
   "source": [
    "show_results(y_test, y_pred)"
   ],
   "metadata": {
    "collapsed": false,
    "pycharm": {
     "name": "#%%\n"
    }
   }
  },
  {
   "cell_type": "markdown",
   "source": [
    "We have seen that results are worse than the initial baseline. Why?\n",
    "\n",
    "Maybe it's because of the lack of data. Given that we have a dataset with very little data, and even if we have the output variable unbalanced, I think that even if we think that we have to balance the class, when we have little data it is not necessary to balance the class, since we can obtain worse results as we have seen in the previous section.\n",
    "\n",
    "Or also it's maybe because we had a lot of luck with the `random_state` seed declared in the baseline model. The `random_state` is a seed that you declare to randomly pick certain values. With the same seed it will logically pick the same random values all the time. To vary this, we can repeat the process with different seeds"
   ],
   "metadata": {
    "collapsed": false
   }
  },
  {
   "cell_type": "markdown",
   "source": [
    "### Linear Regression (Unbalanced baseline (Seed 1))\n"
   ],
   "metadata": {
    "collapsed": false
   }
  },
  {
   "cell_type": "code",
   "execution_count": 15,
   "outputs": [
    {
     "data": {
      "text/plain": "<Figure size 432x432 with 2 Axes>",
      "image/png": "[encoded data removed]"
     },
     "metadata": {
      "needs_background": "light"
     },
     "output_type": "display_data"
    },
    {
     "name": "stdout",
     "output_type": "stream",
     "text": [
      "Accuracy: 100.0%\n",
      "              precision    recall  f1-score   support\n",
      "\n",
      "       DrugY       1.00      1.00      1.00        15\n",
      "       drugA       1.00      1.00      1.00         6\n",
      "       drugB       1.00      1.00      1.00         3\n",
      "       drugC       1.00      1.00      1.00         5\n",
      "       drugX       1.00      1.00      1.00        11\n",
      "\n",
      "    accuracy                           1.00        40\n",
      "   macro avg       1.00      1.00      1.00        40\n",
      "weighted avg       1.00      1.00      1.00        40\n",
      "\n"
     ]
    }
   ],
   "source": [
    "model = run_linear_reg_unbalanced_model(X_train, X_test, y_train, y_test, 1)\n",
    "y_pred = model.predict(X_test)\n",
    "show_results(y_test, y_pred)"
   ],
   "metadata": {
    "collapsed": false,
    "pycharm": {
     "name": "#%%\n"
    }
   }
  },
  {
   "cell_type": "markdown",
   "source": [
    "### Linear Regression (Unbalanced baseline (Seed 2))\n"
   ],
   "metadata": {
    "collapsed": false
   }
  },
  {
   "cell_type": "code",
   "execution_count": 16,
   "outputs": [
    {
     "data": {
      "text/plain": "<Figure size 432x432 with 2 Axes>",
      "image/png": "[encoded data removed]"
     },
     "metadata": {
      "needs_background": "light"
     },
     "output_type": "display_data"
    },
    {
     "name": "stdout",
     "output_type": "stream",
     "text": [
      "Accuracy: 100.0%\n",
      "              precision    recall  f1-score   support\n",
      "\n",
      "       DrugY       1.00      1.00      1.00        15\n",
      "       drugA       1.00      1.00      1.00         6\n",
      "       drugB       1.00      1.00      1.00         3\n",
      "       drugC       1.00      1.00      1.00         5\n",
      "       drugX       1.00      1.00      1.00        11\n",
      "\n",
      "    accuracy                           1.00        40\n",
      "   macro avg       1.00      1.00      1.00        40\n",
      "weighted avg       1.00      1.00      1.00        40\n",
      "\n"
     ]
    }
   ],
   "source": [
    "model = run_linear_reg_unbalanced_model(X_train, X_test, y_train, y_test, 2)\n",
    "y_pred = model.predict(X_test)\n",
    "show_results(y_test, y_pred)"
   ],
   "metadata": {
    "collapsed": false,
    "pycharm": {
     "name": "#%%\n"
    }
   }
  },
  {
   "cell_type": "markdown",
   "source": [
    "### Linear Regression (Unbalanced baseline (Seed 3))\n"
   ],
   "metadata": {
    "collapsed": false
   }
  },
  {
   "cell_type": "code",
   "execution_count": 17,
   "outputs": [
    {
     "data": {
      "text/plain": "<Figure size 432x432 with 2 Axes>",
      "image/png": "[encoded data removed]"
     },
     "metadata": {
      "needs_background": "light"
     },
     "output_type": "display_data"
    },
    {
     "name": "stdout",
     "output_type": "stream",
     "text": [
      "Accuracy: 100.0%\n",
      "              precision    recall  f1-score   support\n",
      "\n",
      "       DrugY       1.00      1.00      1.00        15\n",
      "       drugA       1.00      1.00      1.00         6\n",
      "       drugB       1.00      1.00      1.00         3\n",
      "       drugC       1.00      1.00      1.00         5\n",
      "       drugX       1.00      1.00      1.00        11\n",
      "\n",
      "    accuracy                           1.00        40\n",
      "   macro avg       1.00      1.00      1.00        40\n",
      "weighted avg       1.00      1.00      1.00        40\n",
      "\n"
     ]
    }
   ],
   "source": [
    "model = run_linear_reg_unbalanced_model(X_train, X_test, y_train, y_test, 3)\n",
    "y_pred = model.predict(X_test)\n",
    "show_results(y_test, y_pred)"
   ],
   "metadata": {
    "collapsed": false,
    "pycharm": {
     "name": "#%%\n"
    }
   }
  },
  {
   "cell_type": "markdown",
   "source": [
    "We have seen in these 3 unbalanced linear regression models that accuracy remains great, so we can discard that the culprit is the seed selection, so for linear regression, we stick to the theory n.1 that we have talked about earlier this part"
   ],
   "metadata": {
    "collapsed": false
   }
  },
  {
   "cell_type": "markdown",
   "source": [
    "Another cause of this could be that this algorythm is not great to treat balanced data. Let's see how performs the model with other algorithms:"
   ],
   "metadata": {
    "collapsed": false
   }
  },
  {
   "cell_type": "markdown",
   "metadata": {},
   "source": [
    "### Decision Tree"
   ]
  },
  {
   "cell_type": "code",
   "execution_count": 18,
   "metadata": {
    "pycharm": {
     "name": "#%%\n"
    }
   },
   "outputs": [
    {
     "name": "stdout",
     "output_type": "stream",
     "text": [
      "The importance of the features are: [2.50000000e-01 2.50000000e-01 0.00000000e+00 2.22044605e-16\n",
      " 2.50000000e-01 1.34336986e-14 1.40909091e-01 1.09090909e-01\n",
      " 0.00000000e+00]\n"
     ]
    },
    {
     "data": {
      "text/plain": "<Figure size 432x432 with 2 Axes>",
      "image/png": "[encoded data removed]"
     },
     "metadata": {
      "needs_background": "light"
     },
     "output_type": "display_data"
    },
    {
     "name": "stdout",
     "output_type": "stream",
     "text": [
      "Accuracy: 100.0%\n",
      "              precision    recall  f1-score   support\n",
      "\n",
      "       DrugY       1.00      1.00      1.00        15\n",
      "       drugA       1.00      1.00      1.00         6\n",
      "       drugB       1.00      1.00      1.00         3\n",
      "       drugC       1.00      1.00      1.00         5\n",
      "       drugX       1.00      1.00      1.00        11\n",
      "\n",
      "    accuracy                           1.00        40\n",
      "   macro avg       1.00      1.00      1.00        40\n",
      "weighted avg       1.00      1.00      1.00        40\n",
      "\n"
     ]
    }
   ],
   "source": [
    "from sklearn.tree import DecisionTreeClassifier\n",
    "\n",
    "classifier = DecisionTreeClassifier(random_state=42, class_weight=\"balanced\")\n",
    "classifier.fit(X_train, y_train)\n",
    "\n",
    "print('The importance of the features are: {}'.format(classifier.feature_importances_))\n",
    "\n",
    "y_pred = classifier.predict(X_test)\n",
    "\n",
    "show_results(y_test, y_pred)"
   ]
  },
  {
   "cell_type": "markdown",
   "metadata": {},
   "source": [
    "With these results, we can think at first that our model is perfect. But this can not be very representative, because one downside is building a single tree is its instability, which can be improved through ensemble techniques such as random forests, boosting, etc. For now, let’s move on to the next model."
   ]
  },
  {
   "cell_type": "markdown",
   "metadata": {},
   "source": [
    "### Random Forest\n"
   ]
  },
  {
   "cell_type": "code",
   "execution_count": 19,
   "metadata": {
    "pycharm": {
     "name": "#%%\n"
    }
   },
   "outputs": [
    {
     "name": "stdout",
     "output_type": "stream",
     "text": [
      "The importance of the features are: [0.20536633 0.32264739 0.00875078 0.00682102 0.17307483 0.10507868\n",
      " 0.09316227 0.04558508 0.03951363]\n"
     ]
    },
    {
     "data": {
      "text/plain": "<Figure size 432x432 with 2 Axes>",
      "image/png": "[encoded data removed]"
     },
     "metadata": {
      "needs_background": "light"
     },
     "output_type": "display_data"
    },
    {
     "name": "stdout",
     "output_type": "stream",
     "text": [
      "Accuracy: 100.0%\n",
      "              precision    recall  f1-score   support\n",
      "\n",
      "       DrugY       1.00      1.00      1.00        15\n",
      "       drugA       1.00      1.00      1.00         6\n",
      "       drugB       1.00      1.00      1.00         3\n",
      "       drugC       1.00      1.00      1.00         5\n",
      "       drugX       1.00      1.00      1.00        11\n",
      "\n",
      "    accuracy                           1.00        40\n",
      "   macro avg       1.00      1.00      1.00        40\n",
      "weighted avg       1.00      1.00      1.00        40\n",
      "\n"
     ]
    }
   ],
   "source": [
    "from sklearn.ensemble import RandomForestClassifier\n",
    "\n",
    "classifier = RandomForestClassifier(random_state=42, class_weight=\"balanced\")\n",
    "classifier.fit(X_train, y_train)\n",
    "\n",
    "print('The importance of the features are: {}'.format(classifier.feature_importances_))\n",
    "\n",
    "y_pred = classifier.predict(X_test)\n",
    "\n",
    "show_results(y_test, y_pred)"
   ]
  },
  {
   "cell_type": "markdown",
   "source": [
    "We have seen that with the random forest it has also worked perfectly. Although at the beginning we thought that the decision tree might not be representative due to the lack of variability in the samples, with this algorithm we have shown that it was indeed representative."
   ],
   "metadata": {
    "collapsed": false
   }
  },
  {
   "cell_type": "markdown",
   "source": [
    "# Final thoughts"
   ],
   "metadata": {
    "collapsed": false
   }
  },
  {
   "cell_type": "markdown",
   "source": [
    "We have observed that with the linear regression algorithm with the unbalanced class, better results have been obtained than with the balanced class. It has been shown that this was not because of the `random_state` seed, but that indeed this algorithm does not work well when we have little data and these are balanced. In short, for linear regression when there is little data it is better not to balance it on purpose.\n",
    "\n",
    "As far as tree algorithms such as Decision tree and random forest are concerned, it has been shown that they have worked well with balanced classes, unlike linear regression, and that the results obtained have been perfect."
   ],
   "metadata": {
    "collapsed": false
   }
  }
 ],
 "metadata": {
  "kernelspec": {
   "display_name": "Python 3 (ipykernel)",
   "language": "python",
   "name": "python3"
  },
  "language_info": {
   "codemirror_mode": {
    "name": "ipython",
    "version": 3
   },
   "file_extension": ".py",
   "mimetype": "text/x-python",
   "name": "python",
   "nbconvert_exporter": "python",
   "pygments_lexer": "ipython3",
   "version": "3.9.7"
  }
 },
 "nbformat": 4,
 "nbformat_minor": 1
}